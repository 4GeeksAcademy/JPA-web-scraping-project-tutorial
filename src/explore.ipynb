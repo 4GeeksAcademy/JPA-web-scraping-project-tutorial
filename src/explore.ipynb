{
    "cells": [
        {
            "cell_type": "markdown",
            "metadata": {},
            "source": [
                "# Explore here\n",
                "\n",
                "It's recommended to use this notebook for exploration purposes."
            ]
        },
        {
            "cell_type": "code",
            "execution_count": 99,
            "metadata": {},
            "outputs": [
                {
                    "name": "stdout",
                    "output_type": "stream",
                    "text": [
                        "Defaulting to user installation because normal site-packages is not writeable\n",
                        "Requirement already satisfied: pandas in /home/vscode/.local/lib/python3.11/site-packages (2.3.1)\n",
                        "Requirement already satisfied: requests in /home/vscode/.local/lib/python3.11/site-packages (2.27.1)\n",
                        "Requirement already satisfied: lxml in /home/vscode/.local/lib/python3.11/site-packages (6.0.0)\n",
                        "Requirement already satisfied: numpy>=1.23.2 in /home/vscode/.local/lib/python3.11/site-packages (from pandas) (2.2.6)\n",
                        "Requirement already satisfied: python-dateutil>=2.8.2 in /home/vscode/.local/lib/python3.11/site-packages (from pandas) (2.9.0.post0)\n",
                        "Requirement already satisfied: pytz>=2020.1 in /home/vscode/.local/lib/python3.11/site-packages (from pandas) (2025.2)\n",
                        "Requirement already satisfied: tzdata>=2022.7 in /home/vscode/.local/lib/python3.11/site-packages (from pandas) (2025.2)\n",
                        "Requirement already satisfied: urllib3<1.27,>=1.21.1 in /home/vscode/.local/lib/python3.11/site-packages (from requests) (1.26.20)\n",
                        "Requirement already satisfied: certifi>=2017.4.17 in /home/vscode/.local/lib/python3.11/site-packages (from requests) (2025.7.14)\n",
                        "Requirement already satisfied: charset-normalizer~=2.0.0 in /home/vscode/.local/lib/python3.11/site-packages (from requests) (2.0.12)\n",
                        "Requirement already satisfied: idna<4,>=2.5 in /home/vscode/.local/lib/python3.11/site-packages (from requests) (3.10)\n",
                        "Requirement already satisfied: six>=1.5 in /home/vscode/.local/lib/python3.11/site-packages (from python-dateutil>=2.8.2->pandas) (1.17.0)\n",
                        "Note: you may need to restart the kernel to use updated packages.\n"
                    ]
                }
            ],
            "source": [
                "pip install pandas requests lxml"
            ]
        },
        {
            "cell_type": "code",
            "execution_count": 100,
            "metadata": {},
            "outputs": [
                {
                    "name": "stdout",
                    "output_type": "stream",
                    "text": [
                        "Defaulting to user installation because normal site-packages is not writeable\n",
                        "Requirement already satisfied: pip in /home/vscode/.local/lib/python3.11/site-packages (25.1.1)\n",
                        "Note: you may need to restart the kernel to use updated packages.\n"
                    ]
                }
            ],
            "source": [
                "pip install --upgrade pip"
            ]
        },
        {
            "cell_type": "code",
            "execution_count": 101,
            "metadata": {},
            "outputs": [],
            "source": [
                "import os\n",
                "from bs4 import BeautifulSoup\n",
                "import requests\n",
                "import time\n",
                "import sqlite3\n",
                "import matplotlib.pyplot as plt\n",
                "import seaborn as sns\n",
                "\n"
            ]
        },
        {
            "cell_type": "code",
            "execution_count": 102,
            "metadata": {},
            "outputs": [
                {
                    "name": "stdout",
                    "output_type": "stream",
                    "text": [
                        "Status: 200\n"
                    ]
                }
            ],
            "source": [
                "# import io\n",
                "\n",
                "url = \"https://en.wikipedia.org/wiki/List_of_most-streamed_songs_on_Spotify\"\n",
                "\n",
                "# Send HTTP GET request to the URL\n",
                "response = requests.get(url)\n",
                "\n",
                "# Check if response is succesful\n",
                "if response.status_code == 200:\n",
                "\n",
                "    html = response.text\n",
                "    print(f\"Status: {response.status_code}\")\n",
                "\n",
                "else:\n",
                "    print(f\"Failed. Code: {response.status_code}\")"
            ]
        },
        {
            "cell_type": "code",
            "execution_count": 103,
            "metadata": {},
            "outputs": [],
            "source": [
                "# Parse HTML content\n",
                "soup = BeautifulSoup(html, \"html.parser\")\n",
                "\n",
                "# Find all tables\n",
                "tables = soup.find_all(\"table\")\n",
                "\n",
                "# print(tables)"
            ]
        },
        {
            "cell_type": "code",
            "execution_count": 104,
            "metadata": {},
            "outputs": [
                {
                    "name": "stderr",
                    "output_type": "stream",
                    "text": [
                        "/tmp/ipykernel_642/2187473486.py:4: FutureWarning: Passing literal html to 'read_html' is deprecated and will be removed in a future version. To read from a literal string, wrap it in a 'StringIO' object.\n",
                        "  tables = pd.read_html(response.text)\n"
                    ]
                },
                {
                    "data": {
                        "text/html": [
                            "<div>\n",
                            "<style scoped>\n",
                            "    .dataframe tbody tr th:only-of-type {\n",
                            "        vertical-align: middle;\n",
                            "    }\n",
                            "\n",
                            "    .dataframe tbody tr th {\n",
                            "        vertical-align: top;\n",
                            "    }\n",
                            "\n",
                            "    .dataframe thead th {\n",
                            "        text-align: right;\n",
                            "    }\n",
                            "</style>\n",
                            "<table border=\"1\" class=\"dataframe\">\n",
                            "  <thead>\n",
                            "    <tr style=\"text-align: right;\">\n",
                            "      <th></th>\n",
                            "      <th>Rank</th>\n",
                            "      <th>Song</th>\n",
                            "      <th>Artist(s)</th>\n",
                            "      <th>Streams (billions)</th>\n",
                            "      <th>Release date</th>\n",
                            "      <th>Ref.</th>\n",
                            "    </tr>\n",
                            "  </thead>\n",
                            "  <tbody>\n",
                            "    <tr>\n",
                            "      <th>0</th>\n",
                            "      <td>1</td>\n",
                            "      <td>\"Blinding Lights\"</td>\n",
                            "      <td>The Weeknd</td>\n",
                            "      <td>4.936</td>\n",
                            "      <td>29 November 2019</td>\n",
                            "      <td>[2]</td>\n",
                            "    </tr>\n",
                            "    <tr>\n",
                            "      <th>1</th>\n",
                            "      <td>2</td>\n",
                            "      <td>\"Shape of You\"</td>\n",
                            "      <td>Ed Sheeran</td>\n",
                            "      <td>4.464</td>\n",
                            "      <td>6 January 2017</td>\n",
                            "      <td>[3]</td>\n",
                            "    </tr>\n",
                            "    <tr>\n",
                            "      <th>2</th>\n",
                            "      <td>3</td>\n",
                            "      <td>\"Starboy\"</td>\n",
                            "      <td>The Weeknd and Daft Punk</td>\n",
                            "      <td>3.998</td>\n",
                            "      <td>21 September 2016</td>\n",
                            "      <td>[4]</td>\n",
                            "    </tr>\n",
                            "    <tr>\n",
                            "      <th>3</th>\n",
                            "      <td>4</td>\n",
                            "      <td>\"Someone You Loved\"</td>\n",
                            "      <td>Lewis Capaldi</td>\n",
                            "      <td>3.981</td>\n",
                            "      <td>8 November 2018</td>\n",
                            "      <td>[5]</td>\n",
                            "    </tr>\n",
                            "    <tr>\n",
                            "      <th>4</th>\n",
                            "      <td>5</td>\n",
                            "      <td>\"As It Was\"</td>\n",
                            "      <td>Harry Styles</td>\n",
                            "      <td>3.972</td>\n",
                            "      <td>1 April 2022</td>\n",
                            "      <td>[6]</td>\n",
                            "    </tr>\n",
                            "  </tbody>\n",
                            "</table>\n",
                            "</div>"
                        ],
                        "text/plain": [
                            "  Rank                 Song                 Artist(s) Streams (billions)  \\\n",
                            "0    1    \"Blinding Lights\"                The Weeknd              4.936   \n",
                            "1    2       \"Shape of You\"                Ed Sheeran              4.464   \n",
                            "2    3            \"Starboy\"  The Weeknd and Daft Punk              3.998   \n",
                            "3    4  \"Someone You Loved\"             Lewis Capaldi              3.981   \n",
                            "4    5          \"As It Was\"              Harry Styles              3.972   \n",
                            "\n",
                            "        Release date Ref.  \n",
                            "0   29 November 2019  [2]  \n",
                            "1     6 January 2017  [3]  \n",
                            "2  21 September 2016  [4]  \n",
                            "3    8 November 2018  [5]  \n",
                            "4       1 April 2022  [6]  "
                        ]
                    },
                    "execution_count": 104,
                    "metadata": {},
                    "output_type": "execute_result"
                }
            ],
            "source": [
                "import pandas as pd\n",
                "\n",
                "# Use pandas to read all tables on the page\n",
                "tables = pd.read_html(response.text)\n",
                "\n",
                "# The first table on the page is usually the one we want\n",
                "df = tables[0]\n",
                "\n",
                "# Preview the first few rows\n",
                "df.head()"
            ]
        },
        {
            "cell_type": "code",
            "execution_count": 105,
            "metadata": {},
            "outputs": [
                {
                    "data": {
                        "text/html": [
                            "<div>\n",
                            "<style scoped>\n",
                            "    .dataframe tbody tr th:only-of-type {\n",
                            "        vertical-align: middle;\n",
                            "    }\n",
                            "\n",
                            "    .dataframe tbody tr th {\n",
                            "        vertical-align: top;\n",
                            "    }\n",
                            "\n",
                            "    .dataframe thead th {\n",
                            "        text-align: right;\n",
                            "    }\n",
                            "</style>\n",
                            "<table border=\"1\" class=\"dataframe\">\n",
                            "  <thead>\n",
                            "    <tr style=\"text-align: right;\">\n",
                            "      <th></th>\n",
                            "      <th>Rank</th>\n",
                            "      <th>Song</th>\n",
                            "      <th>Artist(s)</th>\n",
                            "      <th>Streams (billions)</th>\n",
                            "      <th>Release date</th>\n",
                            "    </tr>\n",
                            "  </thead>\n",
                            "  <tbody>\n",
                            "    <tr>\n",
                            "      <th>0</th>\n",
                            "      <td>1</td>\n",
                            "      <td>\"Blinding Lights\"</td>\n",
                            "      <td>The Weeknd</td>\n",
                            "      <td>4.936</td>\n",
                            "      <td>29 November 2019</td>\n",
                            "    </tr>\n",
                            "    <tr>\n",
                            "      <th>1</th>\n",
                            "      <td>2</td>\n",
                            "      <td>\"Shape of You\"</td>\n",
                            "      <td>Ed Sheeran</td>\n",
                            "      <td>4.464</td>\n",
                            "      <td>6 January 2017</td>\n",
                            "    </tr>\n",
                            "    <tr>\n",
                            "      <th>2</th>\n",
                            "      <td>3</td>\n",
                            "      <td>\"Starboy\"</td>\n",
                            "      <td>The Weeknd and Daft Punk</td>\n",
                            "      <td>3.998</td>\n",
                            "      <td>21 September 2016</td>\n",
                            "    </tr>\n",
                            "    <tr>\n",
                            "      <th>3</th>\n",
                            "      <td>4</td>\n",
                            "      <td>\"Someone You Loved\"</td>\n",
                            "      <td>Lewis Capaldi</td>\n",
                            "      <td>3.981</td>\n",
                            "      <td>8 November 2018</td>\n",
                            "    </tr>\n",
                            "    <tr>\n",
                            "      <th>4</th>\n",
                            "      <td>5</td>\n",
                            "      <td>\"As It Was\"</td>\n",
                            "      <td>Harry Styles</td>\n",
                            "      <td>3.972</td>\n",
                            "      <td>1 April 2022</td>\n",
                            "    </tr>\n",
                            "  </tbody>\n",
                            "</table>\n",
                            "</div>"
                        ],
                        "text/plain": [
                            "  Rank                 Song                 Artist(s) Streams (billions)  \\\n",
                            "0    1    \"Blinding Lights\"                The Weeknd              4.936   \n",
                            "1    2       \"Shape of You\"                Ed Sheeran              4.464   \n",
                            "2    3            \"Starboy\"  The Weeknd and Daft Punk              3.998   \n",
                            "3    4  \"Someone You Loved\"             Lewis Capaldi              3.981   \n",
                            "4    5          \"As It Was\"              Harry Styles              3.972   \n",
                            "\n",
                            "        Release date  \n",
                            "0   29 November 2019  \n",
                            "1     6 January 2017  \n",
                            "2  21 September 2016  \n",
                            "3    8 November 2018  \n",
                            "4       1 April 2022  "
                        ]
                    },
                    "execution_count": 105,
                    "metadata": {},
                    "output_type": "execute_result"
                }
            ],
            "source": [
                "# Clean the rows by removing row Ref.\n",
                "\n",
                "df = df.drop(columns=['Ref.'])\n",
                "\n",
                "df.head()"
            ]
        },
        {
            "cell_type": "code",
            "execution_count": 106,
            "metadata": {},
            "outputs": [],
            "source": [
                "# Create database connection\n",
                "conn = sqlite3.connect(\"spotify_streams.db\")\n",
                "\n",
                "# Drop existing top_songs table (IDK where its exist?)\n",
                "conn.execute(\"DROP TABLE IF EXISTS top_songs\")\n",
                "\n",
                "# Create the table \n",
                "conn.execute(\"\"\"\n",
                "    CREATE TABLE top_songs (\n",
                "        Rank INTEGER,\n",
                "        Song TEXT,\n",
                "        Artist TEXT,\n",
                "        Streams INTEGER,\n",
                "        Release_date TEXT\n",
                "    )\n",
                "\"\"\")\n",
                "\n",
                "# Removes unecesary rows in column Rank\n",
                "df = df[df[\"Rank\"].apply(lambda x: str(x).isdigit())]\n",
                "\n",
                "# Rename columns to match table names\n",
                "df.columns = [\"Rank\", \"Song\", \"Artist(s)\", \"Streams (billions)\", \"Release date\"]\n",
                "\n",
                "# Insert rows\n",
                "for _, row in df.iterrows():\n",
                "    conn.execute('''\n",
                "        INSERT INTO top_songs (Rank, Song, Artist, Streams, Release_date)\n",
                "        VALUES (?, ?, ?, ?, ?)\n",
                "    ''', (int(row[\"Rank\"]), row[\"Song\"], row[\"Artist(s)\"], float(row[\"Streams (billions)\"]), row[\"Release date\"]))\n",
                "\n",
                "# Store in SQLite database\n",
                "conn.commit()\n",
                "conn.close()"
            ]
        }
    ],
    "metadata": {
        "kernelspec": {
            "display_name": "Python 3",
            "language": "python",
            "name": "python3"
        },
        "language_info": {
            "codemirror_mode": {
                "name": "ipython",
                "version": 3
            },
            "file_extension": ".py",
            "mimetype": "text/x-python",
            "name": "python",
            "nbconvert_exporter": "python",
            "pygments_lexer": "ipython3",
            "version": "3.11.4"
        },
        "orig_nbformat": 4
    },
    "nbformat": 4,
    "nbformat_minor": 2
}
